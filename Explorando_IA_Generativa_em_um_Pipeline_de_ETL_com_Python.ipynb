{
  "nbformat": 4,
  "nbformat_minor": 0,
  "metadata": {
    "colab": {
      "provenance": [],
      "authorship_tag": "ABX9TyOVmdIX63oZUVu3QfArnnqc",
      "include_colab_link": true
    },
    "kernelspec": {
      "name": "python3",
      "display_name": "Python 3"
    },
    "language_info": {
      "name": "python"
    }
  },
  "cells": [
    {
      "cell_type": "markdown",
      "metadata": {
        "id": "view-in-github",
        "colab_type": "text"
      },
      "source": [
        "<a href=\"https://colab.research.google.com/github/chrizinf7/santander-bootcamp/blob/main/Explorando_IA_Generativa_em_um_Pipeline_de_ETL_com_Python.ipynb\" target=\"_parent\"><img src=\"https://colab.research.google.com/assets/colab-badge.svg\" alt=\"Open In Colab\"/></a>"
      ]
    },
    {
      "cell_type": "markdown",
      "source": [
        "Santander Bootcamp 2023 - Ciência de Dados com Python- Explorando IA Generativa em um Pipeline de ETL com Python\n",
        "\n",
        "Contexto: Desenvolver um projeto que atenda os critérios especificados pelo Bootcamp"
      ],
      "metadata": {
        "id": "NahY2dOWGvj_"
      }
    },
    {
      "cell_type": "markdown",
      "source": [
        "Neste primeiro desafio, a fim de seguir os três processos de Extração, Transformação e Carregamento (ETL), obtei pela criação de um programa para o setor financeiro que busque incentivar as pessoas a utilizarem a poupança do banco. O programa irá analisar o valor do limite da conta do cliente (Valor pré definido) e seu saldo na poupança. Para cada 1 real completo que o cliente tiver no saldo da poupança acima do seu limite, será acrescido 1 real também no limite da sua conta. Caso o cliente não tenha saldo, deverá criar uma mensagem incentivando o cliente a guardar mais dinheiro na conta.\n",
        "será utilizado o LLM (Large Language Model) Google Bard.\n",
        "  \n",
        "Os dados utilizados foram criados por mim mesmo para uso no projeto,utilizando a biblioteca \"random\" do Python e uma planilha em formato CSV. Em seguida guardei o dataset como um arquivo CSV, para posteriormente proceder a ETL."
      ],
      "metadata": {
        "id": "zU0UAEKmGvzy"
      }
    },
    {
      "cell_type": "code",
      "source": [],
      "metadata": {
        "id": "sI7hSncQIluH"
      },
      "execution_count": null,
      "outputs": []
    },
    {
      "cell_type": "markdown",
      "source": [],
      "metadata": {
        "id": "3iYW908wIoZ1"
      }
    },
    {
      "cell_type": "code",
      "source": [],
      "metadata": {
        "id": "ANizylVXImdZ"
      },
      "execution_count": null,
      "outputs": []
    },
    {
      "cell_type": "markdown",
      "source": [],
      "metadata": {
        "id": "RG3Js5mOInUd"
      }
    },
    {
      "cell_type": "code",
      "source": [],
      "metadata": {
        "id": "G_fOTkTEImf0"
      },
      "execution_count": null,
      "outputs": []
    },
    {
      "cell_type": "code",
      "source": [],
      "metadata": {
        "id": "X_fpbbIrImiF"
      },
      "execution_count": null,
      "outputs": []
    }
  ]
}